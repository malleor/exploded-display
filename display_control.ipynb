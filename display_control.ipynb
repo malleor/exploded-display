{
 "cells": [
  {
   "cell_type": "code",
   "execution_count": null,
   "metadata": {},
   "outputs": [],
   "source": [
    "import socketio\n",
    "import requests\n",
    "from os import environ as env"
   ]
  },
  {
   "cell_type": "code",
   "execution_count": null,
   "metadata": {},
   "outputs": [],
   "source": [
    "sio = socketio.Client()"
   ]
  },
  {
   "cell_type": "code",
   "execution_count": null,
   "metadata": {},
   "outputs": [],
   "source": [
    "resolution = None\n",
    "\n",
    "@sio.on('resolution', namespace='/control')\n",
    "def handle_resolution(w, h):\n",
    "    print('resolution', w, h)\n",
    "    resolution = (w, h)"
   ]
  },
  {
   "cell_type": "code",
   "execution_count": null,
   "metadata": {},
   "outputs": [],
   "source": [
    "hostname = env['HOST'].strip()\n",
    "sio.connect('http://%s:5000' % hostname, namespaces=['/control'])"
   ]
  },
  {
   "cell_type": "code",
   "execution_count": null,
   "metadata": {},
   "outputs": [],
   "source": [
    "def on_response(*resp):\n",
    "    print('response:', *resp)\n",
    "    \n",
    "sio.emit('handshake', namespace='/control', callback=on_response)"
   ]
  },
  {
   "cell_type": "code",
   "execution_count": null,
   "metadata": {},
   "outputs": [],
   "source": [
    "# sio.emit('highlight', data=(5, 6), namespace='/control', callback=on_response)"
   ]
  },
  {
   "cell_type": "code",
   "execution_count": null,
   "metadata": {},
   "outputs": [],
   "source": [
    "import requests as rq\n",
    "import cv2\n",
    "import numpy as np\n",
    "from matplotlib import pyplot as plt"
   ]
  },
  {
   "cell_type": "code",
   "execution_count": null,
   "metadata": {},
   "outputs": [],
   "source": [
    "def read_image_from_url(url):\n",
    "    r = rq.get(url)\n",
    "    assert r.ok, 'Failed to fetch the image'\n",
    "    img_str = r.content\n",
    "\n",
    "    img_arr = np.frombuffer(img_str, np.uint8)\n",
    "\n",
    "    img = cv2.imdecode(img_arr, cv2.IMREAD_COLOR)\n",
    "    assert img is not None, 'Failed to read the image'\n",
    "    img = cv2.cvtColor(img, cv2.COLOR_BGR2RGB)\n",
    "\n",
    "    plt.imshow(img);\n",
    "    \n",
    "    return img\n",
    "\n",
    "img = read_image_from_url('https://t4.rbxcdn.com/05b0ee639de3e3e9b40dcbbad11a78b8')"
   ]
  },
  {
   "cell_type": "code",
   "execution_count": null,
   "metadata": {},
   "outputs": [],
   "source": [
    "img_out = cv2.resize(img, (30,30))\n",
    "plt.imshow(img_out);"
   ]
  },
  {
   "cell_type": "code",
   "execution_count": null,
   "metadata": {},
   "outputs": [],
   "source": [
    "def display_image(img):\n",
    "    image_payload = {\n",
    "        'image': img.tobytes(),\n",
    "        'width': img.shape[0],\n",
    "        'height': img.shape[1]\n",
    "    }\n",
    "    sio.emit('show_image', data=image_payload, namespace='/control', callback=on_response)"
   ]
  },
  {
   "cell_type": "code",
   "execution_count": null,
   "metadata": {
    "scrolled": true
   },
   "outputs": [],
   "source": [
    "display_image(img_out)"
   ]
  },
  {
   "cell_type": "code",
   "execution_count": null,
   "metadata": {},
   "outputs": [],
   "source": []
  }
 ],
 "metadata": {
  "kernelspec": {
   "display_name": "Python 3",
   "language": "python",
   "name": "python3"
  },
  "language_info": {
   "codemirror_mode": {
    "name": "ipython",
    "version": 3
   },
   "file_extension": ".py",
   "mimetype": "text/x-python",
   "name": "python",
   "nbconvert_exporter": "python",
   "pygments_lexer": "ipython3",
   "version": "3.7.3"
  }
 },
 "nbformat": 4,
 "nbformat_minor": 2
}
