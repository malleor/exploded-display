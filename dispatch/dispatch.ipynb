{
 "cells": [
  {
   "cell_type": "code",
   "execution_count": null,
   "metadata": {},
   "outputs": [],
   "source": [
    "from flask import Flask, render_template\n",
    "from flask_socketio import SocketIO, emit\n",
    "from os import environ as env"
   ]
  },
  {
   "cell_type": "code",
   "execution_count": null,
   "metadata": {
    "scrolled": true
   },
   "outputs": [],
   "source": [
    "def run_display():\n",
    "    app = Flask('display', static_url_path='/', static_folder='../display')\n",
    "    socketio = SocketIO(app)\n",
    "    \n",
    "    state = {\n",
    "        'resolution': None\n",
    "    }\n",
    "\n",
    "    @app.route(\"/display\")\n",
    "    def home():\n",
    "        return app.send_static_file(\"display.html\")\n",
    "\n",
    "    @socketio.on('handshake', namespace='/display')\n",
    "    def handle_handshake_display():\n",
    "        print('client connected [display]')\n",
    "        return 'ack'\n",
    "    \n",
    "    @socketio.on('handshake', namespace='/control')\n",
    "    def handle_handshake_control():\n",
    "        print('client connected [control]', state)\n",
    "        emit('resolution', state['resolution'], namespace='/control', broadcast=False)\n",
    "        return 'ack'\n",
    "\n",
    "    @socketio.on('resolution', namespace='/display')\n",
    "    def handle_resolution_display(w, h):\n",
    "        print('old resolution:', state['resolution'])\n",
    "        state['resolution'] = (w, h)\n",
    "        print('new resolution:', state['resolution'])\n",
    "        emit('resolution', state['resolution'], namespace='/control', broadcast=True)\n",
    "\n",
    "    @socketio.on('highlight', namespace='/control')\n",
    "    def handle_highlight(*pos):\n",
    "        print('broadcasting highlight:', pos)\n",
    "        emit('hightlight', pos, namespace='/display', broadcast=True)\n",
    "        return 'broadcasted'\n",
    "\n",
    "    @socketio.on('show_image', namespace='/control')\n",
    "    def handle_show_image(*args):\n",
    "        print('broadcasting show_image')\n",
    "        emit('show_image', args, namespace='/display', broadcast=True)\n",
    "        return 'broadcasted'\n",
    "\n",
    "    hostname = env['HOST'].strip()\n",
    "    print('now go to http://' + hostname + ':5000/display?res_x=20&res_y=20')\n",
    "    socketio.run(app, host=hostname)"
   ]
  },
  {
   "cell_type": "code",
   "execution_count": null,
   "metadata": {
    "scrolled": false
   },
   "outputs": [],
   "source": [
    "run_display()"
   ]
  },
  {
   "cell_type": "code",
   "execution_count": null,
   "metadata": {},
   "outputs": [],
   "source": []
  }
 ],
 "metadata": {
  "kernelspec": {
   "display_name": "Python 3",
   "language": "python",
   "name": "python3"
  },
  "language_info": {
   "codemirror_mode": {
    "name": "ipython",
    "version": 3
   },
   "file_extension": ".py",
   "mimetype": "text/x-python",
   "name": "python",
   "nbconvert_exporter": "python",
   "pygments_lexer": "ipython3",
   "version": "3.7.3"
  }
 },
 "nbformat": 4,
 "nbformat_minor": 2
}
