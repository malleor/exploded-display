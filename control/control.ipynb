{
 "cells": [
  {
   "cell_type": "code",
   "execution_count": null,
   "metadata": {},
   "outputs": [],
   "source": [
    "from simple_settings import LazySettings\n",
    "\n",
    "settings = LazySettings('settings.development')"
   ]
  },
  {
   "cell_type": "markdown",
   "metadata": {},
   "source": [
    "# display"
   ]
  },
  {
   "cell_type": "code",
   "execution_count": null,
   "metadata": {},
   "outputs": [],
   "source": [
    "import socketio\n",
    "import requests\n",
    "from os import environ as env\n",
    "import requests as rq\n",
    "import cv2\n",
    "import numpy as np\n",
    "from matplotlib import pyplot as plt\n",
    "\n",
    "\n",
    "class Display:\n",
    "    def __init__(self, hostname):\n",
    "        self._sio = socketio.Client()\n",
    "        self.resolution = None\n",
    "\n",
    "        @self._sio.on('resolution', namespace='/control')\n",
    "        def on_resolution(w, h):\n",
    "            print('resolution changed to:', w, h)\n",
    "            self.resolution = (w, h)\n",
    "            \n",
    "        # connect to dispatch\n",
    "        self._sio.connect('http://%s:5000' % hostname, namespaces=['/control'])\n",
    "        self._sio.emit('handshake', namespace='/control', callback=self._ensure_ok)\n",
    "        \n",
    "    def highlight_pixel(self, x, y):\n",
    "        self._sio.emit('highlight', data=(x, y), namespace='/control', callback=self._ensure_ok)\n",
    "        \n",
    "    def show_image(self, img):\n",
    "        # fit target resolution\n",
    "        img_out = cv2.resize(img, self.resolution)\n",
    "        \n",
    "        # send the image over sio\n",
    "        image_payload = {\n",
    "            'image': img_out.tobytes(),\n",
    "            'width': img_out.shape[0],\n",
    "            'height': img_out.shape[1]\n",
    "        }\n",
    "        self._sio.emit('show_image', data=image_payload, namespace='/control', callback=self._ensure_ok)\n",
    "        \n",
    "    def show_image_from_url(self, url):\n",
    "        # fetch the image\n",
    "        img = self._read_image_from_url(url)\n",
    "        \n",
    "        self.show_image(img)\n",
    "        \n",
    "    def _ensure_ok(self, resp):\n",
    "        assert resp == 'ok', 'expected ack! got %s' % str(resp)\n",
    "        \n",
    "    def _read_image_from_url(self, url):\n",
    "        r = rq.get(url)\n",
    "        assert r.ok, 'Failed to fetch the image'\n",
    "        img_str = r.content\n",
    "\n",
    "        img_arr = np.frombuffer(img_str, np.uint8)\n",
    "\n",
    "        img = cv2.imdecode(img_arr, cv2.IMREAD_COLOR)\n",
    "        assert img is not None, 'Failed to read the image'\n",
    "        img = cv2.cvtColor(img, cv2.COLOR_BGR2RGB)\n",
    "\n",
    "        plt.imshow(img);\n",
    "\n",
    "        return img"
   ]
  },
  {
   "cell_type": "code",
   "execution_count": null,
   "metadata": {},
   "outputs": [],
   "source": [
    "display = Display(settings.DISPLAY_HOST)"
   ]
  },
  {
   "cell_type": "code",
   "execution_count": null,
   "metadata": {},
   "outputs": [],
   "source": [
    "display.highlight_pixel(5, 6)"
   ]
  },
  {
   "cell_type": "code",
   "execution_count": null,
   "metadata": {},
   "outputs": [],
   "source": [
    "display.show_image_from_url('https://t4.rbxcdn.com/05b0ee639de3e3e9b40dcbbad11a78b8')"
   ]
  },
  {
   "cell_type": "markdown",
   "metadata": {},
   "source": [
    "# camera"
   ]
  },
  {
   "cell_type": "code",
   "execution_count": null,
   "metadata": {},
   "outputs": [],
   "source": [
    "import cv2\n",
    "from matplotlib import pyplot as plt\n",
    "import threading, queue\n",
    "from os import environ as env\n",
    "\n",
    "\n",
    "class Camera:\n",
    "    def __init__(self, hostname):\n",
    "        # connect to RTSP server\n",
    "        # ref: https://medium.com/beesightsoft/opencv-python-connect-to-android-camera-via-rstp-9eb78e2903d5\n",
    "        env[\"OPENCV_FFMPEG_CAPTURE_OPTIONS\"] = \"rtsp_transport;udp\"\n",
    "        url = 'rtsp://%s:5554/camera' % hostname\n",
    "        self._vcap = cv2.VideoCapture(url, cv2.CAP_FFMPEG)\n",
    "        assert self._vcap.isOpened(), 'failed to open the RTSP stream:' + url\n",
    "        \n",
    "        # spawn a zero-buffer capture thread\n",
    "        # ref: https://stackoverflow.com/a/54755738/154970\n",
    "        self._q = queue.Queue()\n",
    "        self._run = True\n",
    "        self._t = threading.Thread(target=self._reader)\n",
    "        self._t.daemon = True\n",
    "        self._t.start()\n",
    "        \n",
    "    def close(self):\n",
    "        print('stopping...')\n",
    "        self._run = False\n",
    "        self._t.join()\n",
    "        \n",
    "    def _reader(self):\n",
    "        print('started the capture thread')\n",
    "        while self._run:\n",
    "            ok, img = self._vcap.read()\n",
    "            if not ok:\n",
    "                print('failed to read the stream')\n",
    "                break\n",
    "            if not self._q.empty():\n",
    "                try:\n",
    "                    self._q.get_nowait()\n",
    "                except Queue.Empty:\n",
    "                    pass\n",
    "            self._q.put(img)\n",
    "        print('shutting down the capture thread')\n",
    "        \n",
    "    def capture(self):\n",
    "        img = self._q.get()\n",
    "        return cv2.cvtColor(img, cv2.COLOR_BGR2RGB)"
   ]
  },
  {
   "cell_type": "code",
   "execution_count": null,
   "metadata": {},
   "outputs": [],
   "source": [
    "camera = Camera(settings.CAMERA_HOST)"
   ]
  },
  {
   "cell_type": "code",
   "execution_count": null,
   "metadata": {},
   "outputs": [],
   "source": [
    "img = camera.capture()\n",
    "plt.imshow(img);"
   ]
  },
  {
   "cell_type": "code",
   "execution_count": null,
   "metadata": {},
   "outputs": [],
   "source": [
    "camera.close()"
   ]
  }
 ],
 "metadata": {
  "kernelspec": {
   "display_name": "Python 3",
   "language": "python",
   "name": "python3"
  },
  "language_info": {
   "codemirror_mode": {
    "name": "ipython",
    "version": 3
   },
   "file_extension": ".py",
   "mimetype": "text/x-python",
   "name": "python",
   "nbconvert_exporter": "python",
   "pygments_lexer": "ipython3",
   "version": "3.7.3"
  }
 },
 "nbformat": 4,
 "nbformat_minor": 2
}
