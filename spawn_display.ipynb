{
 "cells": [
  {
   "cell_type": "code",
   "execution_count": null,
   "metadata": {},
   "outputs": [],
   "source": [
    "from flask import Flask, render_template\n",
    "from flask_socketio import SocketIO\n",
    "from os import environ as env\n",
    "\n",
    "app = Flask('display', static_url_path='/', static_folder='display')\n",
    "socketio = SocketIO(app)\n",
    "\n",
    "@app.route(\"/display\")\n",
    "def home():\n",
    "    return app.send_static_file(\"display.html\")\n",
    "\n",
    "@socketio.on('handshake')\n",
    "def handle_handshake():\n",
    "    print('client connected')\n",
    "    return 'ack'\n",
    "\n",
    "hostname = env['HOST'].strip()\n",
    "print('now go to http://' + hostname + ':5000/display?res_x=12&res_y=17')\n",
    "socketio.run(app, host=hostname)"
   ]
  },
  {
   "cell_type": "code",
   "execution_count": null,
   "metadata": {},
   "outputs": [],
   "source": []
  }
 ],
 "metadata": {
  "kernelspec": {
   "display_name": "Python 3",
   "language": "python",
   "name": "python3"
  },
  "language_info": {
   "codemirror_mode": {
    "name": "ipython",
    "version": 3
   },
   "file_extension": ".py",
   "mimetype": "text/x-python",
   "name": "python",
   "nbconvert_exporter": "python",
   "pygments_lexer": "ipython3",
   "version": "3.7.3"
  }
 },
 "nbformat": 4,
 "nbformat_minor": 2
}
